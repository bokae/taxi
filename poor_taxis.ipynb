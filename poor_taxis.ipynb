{
 "cells": [
  {
   "cell_type": "code",
   "execution_count": 15,
   "metadata": {},
   "outputs": [],
   "source": [
    "%matplotlib notebook\n",
    "\n",
    "from visualize2 import ResultParser\n",
    "import numpy as np\n",
    "import matplotlib.pyplot as plt\n",
    "plt.rcParams['font.size']=8\n",
    "from ipywidgets import interact,interact_manual, IntSlider, IntRangeSlider\n",
    "from geometry import City\n",
    "from ipywidgets import fixed,SelectionSlider\n",
    "from copy import deepcopy"
   ]
  },
  {
   "cell_type": "code",
   "execution_count": 2,
   "metadata": {},
   "outputs": [
    {
     "name": "stdout",
     "output_type": "stream",
     "text": [
      "Initializing ResultParser...\n",
      "Done.\n",
      "Initializing ResultParser...\n",
      "Done.\n"
     ]
    }
   ],
   "source": [
    "# collecting result data\n",
    "rp1 = ResultParser('0831_base_fixed_ratio')\n",
    "df1 = rp1.prepare_all_data(force=True)\n",
    "\n",
    "rp2 = ResultParser('0831_base_fixed_taxis')\n",
    "df2 = rp2.prepare_all_data(force=True)"
   ]
  },
  {
   "cell_type": "code",
   "execution_count": 10,
   "metadata": {},
   "outputs": [],
   "source": [
    "def distr_gen(row):\n",
    "    # request origin and destination distributions\n",
    "    C = City(**row)\n",
    "    \n",
    "    o = []\n",
    "    d = []\n",
    "    for i in range(10000):\n",
    "        ox,oy,dx,dy = C.create_one_request_coord()\n",
    "        o.append([ox,oy])\n",
    "        d.append([dx,dy])\n",
    "        \n",
    "    return np.histogram2d(\n",
    "            np.array(o)[:,0],np.array(o)[:,1],\n",
    "            range = [[0,row['n']],[0,row['m']]],\n",
    "            bins = [row['n'],row['m']]\n",
    "        ), np.histogram2d(\n",
    "            np.array(d)[:,0],np.array(d)[:,1],\n",
    "            range = [[0,row['n']],[0,row['m']]],\n",
    "            bins = [row['n'],row['m']]\n",
    "        )"
   ]
  },
  {
   "cell_type": "code",
   "execution_count": 11,
   "metadata": {},
   "outputs": [],
   "source": [
    "df1['distr'] = df1.apply(distr_gen,axis=1)"
   ]
  },
  {
   "cell_type": "code",
   "execution_count": 12,
   "metadata": {},
   "outputs": [],
   "source": [
    "df2['distr'] = df2.apply(distr_gen,axis=1)"
   ]
  },
  {
   "cell_type": "code",
   "execution_count": 13,
   "metadata": {},
   "outputs": [],
   "source": [
    "def plotting_percentile(p_poor, p_rich ,d,R):\n",
    "    \"\"\"\n",
    "    Where are the taxis from the dataset row, that have less income than the p-th percentile?\n",
    "    \"\"\"\n",
    "    \n",
    "    pr_min = p_rich[0]\n",
    "    pr_max = p_rich[1]\n",
    "    \n",
    "    pp_min = p_poor[0]\n",
    "    pp_max = p_poor[1]\n",
    "    \n",
    "    if R=='fixed':\n",
    "        df = deepcopy(df1)\n",
    "        mode = 'd'\n",
    "    elif d=='fixed':\n",
    "        df = deepcopy(df2)\n",
    "        mode = 'R'\n",
    "    \n",
    "    row = df[df[mode] == eval(mode)].iloc[0]\n",
    "    \n",
    "    thresminr = np.percentile(row['trip_avg_price'],pr_min)\n",
    "    thresmaxr = np.percentile(row['trip_avg_price'],pr_max)\n",
    "    \n",
    "    thresminp = np.percentile(row['trip_avg_price'],pp_min)\n",
    "    thresmaxp = np.percentile(row['trip_avg_price'],pp_max)\n",
    "    \n",
    "    positionp = [row['position'].iloc[i] \\\n",
    "                for i,price in enumerate(row['trip_avg_price']) if (price > thresminp) and (price < thresmaxp)]\n",
    "    \n",
    "    \n",
    "    positionr = [row['position'].iloc[i] \\\n",
    "                for i,price in enumerate(row['trip_avg_price']) if (price > thresminr) and (price < thresmaxr)]\n",
    "    \n",
    "    fig,ax = plt.subplots(nrows=1,ncols=4,figsize=(8,2),num = 'Taxi end positions, R=%.2f, d=%d' % (row['R'],row['d']))\n",
    "    \n",
    "    # poor\n",
    "    ax[0].hist2d(\n",
    "        [x[0] for x in positionp],[x[1] for x in positionp],\n",
    "        range = [[0,row['n']],[0,row['m']]],\n",
    "        bins = [row['n'],row['m']],\n",
    "        cmap = 'magma'\n",
    "    )\n",
    "    ax[0].axis('equal')\n",
    "    ax[0].set_title('Poor')\n",
    "    ax[0].set_xlim(0,row['n'])\n",
    "    ax[0].set_ylim(0,row['m'])\n",
    "    \n",
    "    # rich\n",
    "    ax[1].hist2d(\n",
    "        [x[0] for x in positionr],[x[1] for x in positionr],\n",
    "        range = [[0,row['n']],[0,row['m']]],\n",
    "        bins = [row['n'],row['m']],\n",
    "        cmap = 'magma'\n",
    "    )\n",
    "    ax[1].axis('equal')\n",
    "    ax[1].set_title('Rich')\n",
    "    ax[1].set_xlim(0,row['n'])\n",
    "    ax[1].set_ylim(0,row['m'])\n",
    "    \n",
    "    if 'request_destination_distributions' in row.index:\n",
    "        if not hasattr(row['request_destination_distributions'],'dtype'):\n",
    "            del row['request_destination_distributions']\n",
    "\n",
    "    H, xedges, yedges = row['distr'][0]\n",
    "    extent = [yedges[0], yedges[-1], xedges[-1], xedges[0]]\n",
    "    ax[2].imshow(H, extent=extent, interpolation='nearest')\n",
    "    ax[2].set_xlim(0,row['n'])\n",
    "    ax[2].set_ylim(0,row['m'])\n",
    "    ax[2].set_title('Origin')\n",
    "              \n",
    "    H, xedges, yedges = row['distr'][1]\n",
    "    extent = [yedges[0], yedges[-1], xedges[-1], xedges[0]]\n",
    "    ax[3].imshow(H, extent=extent, interpolation='nearest')\n",
    "    ax[3].axis('equal')\n",
    "    ax[3].set_xlim(0,row['n'])\n",
    "    ax[3].set_ylim(0,row['m'])\n",
    "    ax[3].set_title('Destination')\n",
    "\n",
    "    plt.show()\n",
    "    \n",
    "#     print(\"INCOME VS TAXI \")\n",
    "    \n",
    "#     fig,axn = plt.subplots(nrows=1,ncols=4,figsize=(20,5))\n",
    "#     for i,ratio in enumerate(['ratio_cruising','ratio_waiting', 'ratio_serving', 'ratio_to_request']):\n",
    "#         axn[i].plot(row['trip_avg_price'],row[ratio],'bo')\n",
    "#         axn[i].set_title(ratio)\n",
    "#         axn[i].set_ylim(0,1)\n"
   ]
  },
  {
   "cell_type": "code",
   "execution_count": 16,
   "metadata": {},
   "outputs": [
    {
     "data": {
      "application/vnd.jupyter.widget-view+json": {
       "model_id": "03e21c7d49884f209f1ea0254190ca3c",
       "version_major": 2,
       "version_minor": 0
      },
      "text/html": [
       "<p>Failed to display Jupyter Widget of type <code>interactive</code>.</p>\n",
       "<p>\n",
       "  If you're reading this message in the Jupyter Notebook or JupyterLab Notebook, it may mean\n",
       "  that the widgets JavaScript is still loading. If this message persists, it\n",
       "  likely means that the widgets JavaScript library is either not installed or\n",
       "  not enabled. See the <a href=\"https://ipywidgets.readthedocs.io/en/stable/user_install.html\">Jupyter\n",
       "  Widgets Documentation</a> for setup instructions.\n",
       "</p>\n",
       "<p>\n",
       "  If you're reading this message in another frontend (for example, a static\n",
       "  rendering on GitHub or <a href=\"https://nbviewer.jupyter.org/\">NBViewer</a>),\n",
       "  it may mean that your frontend doesn't currently support widgets.\n",
       "</p>\n"
      ],
      "text/plain": [
       "interactive(children=(IntRangeSlider(value=(0, 10), description='p_poor', step=10), IntRangeSlider(value=(90, 100), description='p_rich', step=10), SelectionSlider(description='d', options=(100.0, 150.0, 200.0, 250.0, 300.0, 350.0, 400.0), value=100.0), Output()), _dom_classes=('widget-interact',))"
      ]
     },
     "metadata": {},
     "output_type": "display_data"
    },
    {
     "data": {
      "text/plain": [
       "<function __main__.plotting_percentile>"
      ]
     },
     "execution_count": 16,
     "metadata": {},
     "output_type": "execute_result"
    }
   ],
   "source": [
    "interact(plotting_percentile,\n",
    "         p_poor = IntRangeSlider(min=0,max=100, value=(0,10),step=10),\n",
    "         p_rich = IntRangeSlider(min=0,max=100, value=(90,100),step=10),\n",
    "         R = fixed('fixed'),\n",
    "         d = SelectionSlider(value = 100, options=sorted(df1['d'].tolist())))"
   ]
  },
  {
   "cell_type": "code",
   "execution_count": 8,
   "metadata": {},
   "outputs": [
    {
     "data": {
      "application/vnd.jupyter.widget-view+json": {
       "model_id": "10f8dd0990e849d394d5e7250b480247",
       "version_major": 2,
       "version_minor": 0
      },
      "text/html": [
       "<p>Failed to display Jupyter Widget of type <code>interactive</code>.</p>\n",
       "<p>\n",
       "  If you're reading this message in the Jupyter Notebook or JupyterLab Notebook, it may mean\n",
       "  that the widgets JavaScript is still loading. If this message persists, it\n",
       "  likely means that the widgets JavaScript library is either not installed or\n",
       "  not enabled. See the <a href=\"https://ipywidgets.readthedocs.io/en/stable/user_install.html\">Jupyter\n",
       "  Widgets Documentation</a> for setup instructions.\n",
       "</p>\n",
       "<p>\n",
       "  If you're reading this message in another frontend (for example, a static\n",
       "  rendering on GitHub or <a href=\"https://nbviewer.jupyter.org/\">NBViewer</a>),\n",
       "  it may mean that your frontend doesn't currently support widgets.\n",
       "</p>\n"
      ],
      "text/plain": [
       "interactive(children=(IntRangeSlider(value=(90, 100), description='p', step=10), SelectionSlider(description='R', index=1, options=(0.02, 0.05, 0.1, 0.15, 0.2, 0.25, 0.3, 0.35, 0.4, 0.45, 0.5, 0.55, 0.6, 0.65, 0.7, 0.75, 0.8, 0.85, 0.9, 0.95, 1.0), value=0.05), Button(description='Run Interact', style=ButtonStyle()), Output()), _dom_classes=('widget-interact',))"
      ]
     },
     "metadata": {},
     "output_type": "display_data"
    },
    {
     "data": {
      "text/plain": [
       "<function __main__.plotting_percentile>"
      ]
     },
     "execution_count": 8,
     "metadata": {},
     "output_type": "execute_result"
    }
   ],
   "source": [
    "interact_manual(plotting_percentile,\n",
    "         p = IntRangeSlider(min=0,max=100, value=(90,100),step=10),\n",
    "         R = SelectionSlider(value = 0.05, options=sorted(df2['R'].tolist())),\n",
    "         d = fixed('fixed'))"
   ]
  },
  {
   "cell_type": "code",
   "execution_count": null,
   "metadata": {},
   "outputs": [],
   "source": []
  }
 ],
 "metadata": {
  "kernelspec": {
   "display_name": "Python 3",
   "language": "python",
   "name": "python3"
  },
  "language_info": {
   "codemirror_mode": {
    "name": "ipython",
    "version": 3
   },
   "file_extension": ".py",
   "mimetype": "text/x-python",
   "name": "python",
   "nbconvert_exporter": "python",
   "pygments_lexer": "ipython3",
   "version": "3.6.4"
  }
 },
 "nbformat": 4,
 "nbformat_minor": 2
}
