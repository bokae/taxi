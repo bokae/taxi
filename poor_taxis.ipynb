{
 "cells": [
  {
   "cell_type": "code",
   "execution_count": 7,
   "metadata": {},
   "outputs": [],
   "source": [
    "from visualize2 import ResultParser\n",
    "import numpy as np\n",
    "import matplotlib.pyplot as plt\n",
    "from ipywidgets import interact, IntSlider\n",
    "from geometry import City\n",
    "%matplotlib inline\n",
    "from ipywidgets import fixed,SelectionSlider\n",
    "from copy import deepcopy\n",
    "\n",
    "# collecting result data\n",
    "rp1 = ResultParser('0831_base_fixed_ratio')\n",
    "df1 = rp1.prepare_all_data(force=True)\n",
    "\n",
    "rp2 = ResultParser('0831_base_fixed_taxis')\n",
    "df2 = rp2.prepare_all_data(force=True)"
   ]
  },
  {
   "cell_type": "code",
   "execution_count": 16,
   "metadata": {},
   "outputs": [],
   "source": [
    "def plotting_percentile(p,d,R):\n",
    "    \"\"\"\n",
    "    Where are the taxis from the dataset row, that have less income than the p-th percentile?\n",
    "    \"\"\"\n",
    "    \n",
    "    if R=='fixed':\n",
    "        df = deepcopy(df1)\n",
    "        mode = 'd'\n",
    "    elif d=='fixed':\n",
    "        df = deepcopy(df2)\n",
    "        mode = 'R'\n",
    "    \n",
    "    row = df[df[mode] == eval(mode)].iloc[0]\n",
    "    thres = np.percentile(row['trip_avg_price'],p)\n",
    "    position = [row['position'].iloc[i] for i,price in enumerate(row['trip_avg_price']) if price<thres]\n",
    "    \n",
    "    \n",
    "    print(\"TAXI POSITIONS AT END OF SIMULATION\")\n",
    "    \n",
    "    fig,ax = plt.subplots(nrows=1,ncols=3,figsize=(15,5))\n",
    "    # taxis\n",
    "    ax[0].hist2d(\n",
    "        [x[0] for x in position],[x[1] for x in position],\n",
    "        range = [[0,row['n']],[0,row['m']]],\n",
    "        bins = [row['n'],row['m']],\n",
    "        cmap = 'magma'\n",
    "    )\n",
    "    ax[0].axis('equal')\n",
    "    ax[0].set_xlim(0,row['n'])\n",
    "    ax[0].set_ylim(0,row['m'])\n",
    "    ax[0].set_title('Taxis below the %dth percentile' % p)\n",
    "    \n",
    "    if 'request_destination_distributions' in row.index:\n",
    "        if not hasattr(row['request_destination_distributions'],'dtype'):\n",
    "            del row['request_destination_distributions']\n",
    "        \n",
    "    # request origin and destination distributions\n",
    "    C = City(**row)\n",
    "    \n",
    "    o = []\n",
    "    d = []\n",
    "    for i in range(100000):\n",
    "        ox,oy,dx,dy = C.create_one_request_coord()\n",
    "        o.append([ox,oy])\n",
    "        d.append([dx,dy])\n",
    "\n",
    "    ax[1].hist2d(np.array(o)[:,0],np.array(o)[:,1],\n",
    "        range = [[0,row['n']],[0,row['m']]],\n",
    "        bins = [row['n'],row['m']]\n",
    "    )\n",
    "    ax[1].axis('equal')\n",
    "    ax[1].set_xlim(0,row['n'])\n",
    "    ax[1].set_ylim(0,row['m'])\n",
    "    ax[1].set_title('Request origin distribution, R=%.2f, d=%d' % (row['R'],row['d']))\n",
    "              \n",
    "    plt.hist2d(np.array(d)[:,0],np.array(d)[:,1],\n",
    "        range = [[0,row['n']],[0,row['m']]],\n",
    "        bins = [row['n'],row['m']]\n",
    "    )\n",
    "    ax[2].axis('equal')\n",
    "    ax[2].set_xlim(0,row['n'])\n",
    "    ax[2].set_ylim(0,row['m'])\n",
    "    ax[2].set_title('Request destination distribution, R=%.2f, d=%d' % (row['R'],row['d']))\n",
    "    plt.show()\n",
    "    \n",
    "    print(\"INCOME VS TAXI \")\n",
    "    \n",
    "    fig,axn = plt.subplots(nrows=1,ncols=4,figsize=(20,5))\n",
    "    for i,ratio in enumerate(['ratio_cruising','ratio_waiting', 'ratio_serving', 'ratio_to_request']):\n",
    "        axn[i].plot(row['trip_avg_price'],row[ratio],'bo')\n",
    "        axn[i].set_title(ratio)\n",
    "        axn[i].set_ylim(0,1)\n",
    "    plt.show()\n"
   ]
  },
  {
   "cell_type": "code",
   "execution_count": 17,
   "metadata": {},
   "outputs": [
    {
     "data": {
      "application/vnd.jupyter.widget-view+json": {
       "model_id": "dadb604b85444b80b45e28714f80b74a",
       "version_major": 2,
       "version_minor": 0
      },
      "text/html": [
       "<p>Failed to display Jupyter Widget of type <code>interactive</code>.</p>\n",
       "<p>\n",
       "  If you're reading this message in the Jupyter Notebook or JupyterLab Notebook, it may mean\n",
       "  that the widgets JavaScript is still loading. If this message persists, it\n",
       "  likely means that the widgets JavaScript library is either not installed or\n",
       "  not enabled. See the <a href=\"https://ipywidgets.readthedocs.io/en/stable/user_install.html\">Jupyter\n",
       "  Widgets Documentation</a> for setup instructions.\n",
       "</p>\n",
       "<p>\n",
       "  If you're reading this message in another frontend (for example, a static\n",
       "  rendering on GitHub or <a href=\"https://nbviewer.jupyter.org/\">NBViewer</a>),\n",
       "  it may mean that your frontend doesn't currently support widgets.\n",
       "</p>\n"
      ],
      "text/plain": [
       "interactive(children=(IntSlider(value=100, description='p', step=5), SelectionSlider(description='d', options=(100.0, 150.0, 250.0, 400.0, 350.0, 300.0, 200.0), value=100.0), Output()), _dom_classes=('widget-interact',))"
      ]
     },
     "metadata": {},
     "output_type": "display_data"
    },
    {
     "data": {
      "text/plain": [
       "<function __main__.plotting_percentile>"
      ]
     },
     "execution_count": 17,
     "metadata": {},
     "output_type": "execute_result"
    }
   ],
   "source": [
    "interact(plotting_percentile,\n",
    "         p = IntSlider(min=0,max=100, value=100,step=5),\n",
    "         R = fixed('fixed'),\n",
    "         d = SelectionSlider(value = 100, options=sorted(df1['d'].tolist())))"
   ]
  },
  {
   "cell_type": "code",
   "execution_count": 20,
   "metadata": {},
   "outputs": [
    {
     "data": {
      "application/vnd.jupyter.widget-view+json": {
       "model_id": "4e635a0e27e94289b5d680a4a5a42f83",
       "version_major": 2,
       "version_minor": 0
      },
      "text/html": [
       "<p>Failed to display Jupyter Widget of type <code>interactive</code>.</p>\n",
       "<p>\n",
       "  If you're reading this message in the Jupyter Notebook or JupyterLab Notebook, it may mean\n",
       "  that the widgets JavaScript is still loading. If this message persists, it\n",
       "  likely means that the widgets JavaScript library is either not installed or\n",
       "  not enabled. See the <a href=\"https://ipywidgets.readthedocs.io/en/stable/user_install.html\">Jupyter\n",
       "  Widgets Documentation</a> for setup instructions.\n",
       "</p>\n",
       "<p>\n",
       "  If you're reading this message in another frontend (for example, a static\n",
       "  rendering on GitHub or <a href=\"https://nbviewer.jupyter.org/\">NBViewer</a>),\n",
       "  it may mean that your frontend doesn't currently support widgets.\n",
       "</p>\n"
      ],
      "text/plain": [
       "interactive(children=(IntSlider(value=100, description='p', step=5), SelectionSlider(description='R', index=1, options=(0.02, 0.05, 0.1, 0.15, 0.2, 0.25, 0.3, 0.35, 0.4, 0.45, 0.5, 0.55, 0.6, 0.65, 0.7, 0.75, 0.8, 0.85, 0.9, 0.95, 1.0), value=0.05), Output()), _dom_classes=('widget-interact',))"
      ]
     },
     "metadata": {},
     "output_type": "display_data"
    },
    {
     "data": {
      "text/plain": [
       "<function __main__.plotting_percentile>"
      ]
     },
     "execution_count": 20,
     "metadata": {},
     "output_type": "execute_result"
    }
   ],
   "source": [
    "interact(plotting_percentile,\n",
    "         p = IntSlider(min=0,max=100, value=100,step=5),\n",
    "         R = SelectionSlider(value = 0.05, options=sorted(df2['R'].tolist())),\n",
    "         d = fixed('fixed'))"
   ]
  }
 ],
 "metadata": {
  "kernelspec": {
   "display_name": "Python 3",
   "language": "python",
   "name": "python3"
  },
  "language_info": {
   "codemirror_mode": {
    "name": "ipython",
    "version": 3
   },
   "file_extension": ".py",
   "mimetype": "text/x-python",
   "name": "python",
   "nbconvert_exporter": "python",
   "pygments_lexer": "ipython3",
   "version": "3.6.4"
  }
 },
 "nbformat": 4,
 "nbformat_minor": 2
}
