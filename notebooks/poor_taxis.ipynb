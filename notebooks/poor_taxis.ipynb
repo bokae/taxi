{
 "cells": [
  {
   "cell_type": "code",
   "execution_count": 1,
   "metadata": {},
   "outputs": [
    {
     "name": "stdout",
     "output_type": "stream",
     "text": [
      "Initializing ResultParser...\n",
      "Done.\n",
      "CPU times: user 12.9 s, sys: 1.43 s, total: 14.3 s\n",
      "Wall time: 20.8 s\n"
     ]
    }
   ],
   "source": [
    "%%time\n",
    "from visualize import ResultParser\n",
    "import numpy as np\n",
    "import matplotlib.pyplot as plt\n",
    "from ipywidgets import interact, IntSlider\n",
    "from geometry import City\n",
    "%matplotlib notebook\n",
    "\n",
    "# collecting result data\n",
    "rp = ResultParser('0831_base')\n",
    "df = rp.prepare_all_data(force=True)"
   ]
  },
  {
   "cell_type": "code",
   "execution_count": 2,
   "metadata": {},
   "outputs": [],
   "source": [
    "def plotting_percentile(p,row):\n",
    "    \"\"\"\n",
    "    Where are the taxis from the dataset row, that have less income than the p-th percentile?\n",
    "    \"\"\"\n",
    "    \n",
    "    row = df.loc[row]\n",
    "    thres = np.percentile(row['trip_avg_price'],p)\n",
    "    position = [row['position'][i] for i,price in enumerate(row['trip_avg_price']) if price<thres]\n",
    "    \n",
    "    \n",
    "    print(\"TAXI POSITIONS AT END OF SIMULATION\")\n",
    "    \n",
    "    fig,ax = plt.subplots(nrows=1,ncols=3,figsize=(15,5))\n",
    "    # taxis\n",
    "    ax[0].hist2d(\n",
    "        [x[0] for x in position],[x[1] for x in position],\n",
    "        range = [[0,row['n']],[0,row['m']]],\n",
    "        bins = [row['n'],row['m']],\n",
    "        cmap = 'magma'\n",
    "    )\n",
    "    ax[0].axis('equal')\n",
    "    ax[0].set_xlim(0,row['n'])\n",
    "    ax[0].set_ylim(0,row['m'])\n",
    "    ax[0].set_title('Taxis below the %dth percentile' % p)\n",
    "    \n",
    "    if not hasattr(row['request_destination_distributions'],'dtype'):\n",
    "        del row['request_destination_distributions']\n",
    "        \n",
    "    # request origin and destination distributions\n",
    "    C = City(**row)\n",
    "    \n",
    "    o = []\n",
    "    d = []\n",
    "    for i in range(100000):\n",
    "        ox,oy,dx,dy = C.create_one_request_coord()\n",
    "        o.append([ox,oy])\n",
    "        d.append([dx,dy])\n",
    "\n",
    "    ax[1].hist2d(np.array(o)[:,0],np.array(o)[:,1],\n",
    "        range = [[0,row['n']],[0,row['m']]],\n",
    "        bins = [row['n'],row['m']]\n",
    "    )\n",
    "    ax[1].axis('equal')\n",
    "    ax[1].set_xlim(0,row['n'])\n",
    "    ax[1].set_ylim(0,row['m'])\n",
    "    ax[1].set_title('Request origin distribution, R=%.2f' % row['R'])\n",
    "              \n",
    "    plt.hist2d(np.array(d)[:,0],np.array(d)[:,1],\n",
    "        range = [[0,row['n']],[0,row['m']]],\n",
    "        bins = [row['n'],row['m']]\n",
    "    )\n",
    "    ax[2].axis('equal')\n",
    "    ax[2].set_xlim(0,row['n'])\n",
    "    ax[2].set_ylim(0,row['m'])\n",
    "    ax[2].set_title('Request destination distribution, R=%.2f' % row['R'])\n",
    "    plt.show()\n",
    "    \n",
    "    print(\"INCOME VS TAXI \")\n",
    "    \n",
    "    fig,axn = plt.subplots(nrows=1,ncols=4,figsize=(20,5))\n",
    "    for i,ratio in enumerate(['ratio_cruising','ratio_waiting', 'ratio_serving', 'ratio_to_request']):\n",
    "        axn[i].plot(row['trip_avg_price'],row[ratio],'bo')\n",
    "        axn[i].set_title(ratio)\n",
    "        axn[i].set_ylim(0,1)\n",
    "    plt.show()\n"
   ]
  },
  {
   "cell_type": "code",
   "execution_count": 3,
   "metadata": {},
   "outputs": [
    {
     "data": {
      "application/vnd.jupyter.widget-view+json": {
       "model_id": "b701e99ed32a4dd995ed79bec6735065",
       "version_major": 2,
       "version_minor": 0
      },
      "text/html": [
       "<p>Failed to display Jupyter Widget of type <code>interactive</code>.</p>\n",
       "<p>\n",
       "  If you're reading this message in the Jupyter Notebook or JupyterLab Notebook, it may mean\n",
       "  that the widgets JavaScript is still loading. If this message persists, it\n",
       "  likely means that the widgets JavaScript library is either not installed or\n",
       "  not enabled. See the <a href=\"https://ipywidgets.readthedocs.io/en/stable/user_install.html\">Jupyter\n",
       "  Widgets Documentation</a> for setup instructions.\n",
       "</p>\n",
       "<p>\n",
       "  If you're reading this message in another frontend (for example, a static\n",
       "  rendering on GitHub or <a href=\"https://nbviewer.jupyter.org/\">NBViewer</a>),\n",
       "  it may mean that your frontend doesn't currently support widgets.\n",
       "</p>\n"
      ],
      "text/plain": [
       "interactive(children=(IntSlider(value=100, description='p', step=5), IntSlider(value=0, description='row', max=114), Output()), _dom_classes=('widget-interact',))"
      ]
     },
     "metadata": {},
     "output_type": "display_data"
    },
    {
     "data": {
      "text/plain": [
       "<function __main__.plotting_percentile>"
      ]
     },
     "execution_count": 3,
     "metadata": {},
     "output_type": "execute_result"
    }
   ],
   "source": [
    "interact(plotting_percentile,\n",
    "         p = IntSlider(min=0,max=100, value=100,step=5),\n",
    "         row = IntSlider(min=0,max=df.index.max(),value=0))"
   ]
  }
 ],
 "metadata": {
  "kernelspec": {
   "display_name": "Python 3",
   "language": "python",
   "name": "python3"
  },
  "language_info": {
   "codemirror_mode": {
    "name": "ipython",
    "version": 3
   },
   "file_extension": ".py",
   "mimetype": "text/x-python",
   "name": "python",
   "nbconvert_exporter": "python",
   "pygments_lexer": "ipython3",
   "version": "3.6.4"
  }
 },
 "nbformat": 4,
 "nbformat_minor": 2
}
